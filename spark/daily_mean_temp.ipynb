{
 "cells": [
  {
   "cell_type": "code",
   "execution_count": 1,
   "id": "ca53e5af",
   "metadata": {},
   "outputs": [],
   "source": [
    "import findspark\n",
    "findspark.init()\n",
    "import os\n",
    "import hbspark\n",
    "from pyspark.sql import SparkSession\n",
    "from pyspark.sql.types import *\n",
    "from pyspark.sql.functions import *\n",
    "import time\n",
    "from datetime import datetime, timedelta"
   ]
  },
  {
   "cell_type": "code",
   "execution_count": 32,
   "id": "01d8fcf6",
   "metadata": {},
   "outputs": [],
   "source": [
    "hbase_host_name = 'vl41.mini.pw.edu.pl'\n",
    "spark_session = SparkSession.builder.appName('my-spark-app').master('local[1]').getOrCreate()\n",
    "hbspark.connect('vl41.mini.pw.edu.pl', spark_session)"
   ]
  },
  {
   "cell_type": "code",
   "execution_count": 33,
   "id": "db63d6bc",
   "metadata": {},
   "outputs": [],
   "source": [
    "forecasts = hbspark.table('forecasts')"
   ]
  },
  {
   "cell_type": "markdown",
   "id": "c58416f2",
   "metadata": {},
   "source": [
    "Skanujemy z ostatnich 24 godzin"
   ]
  },
  {
   "cell_type": "code",
   "execution_count": 34,
   "id": "aaed0c8e",
   "metadata": {},
   "outputs": [],
   "source": [
    "curr_tstamp = time.time_ns() // 1000\n",
    "yesterday_tstamp = curr_tstamp - (24 * 60 * 60 * 1000)"
   ]
  },
  {
   "cell_type": "code",
   "execution_count": 35,
   "id": "c1d69554",
   "metadata": {},
   "outputs": [],
   "source": [
    "df_orig = forecasts.scan(row_prefix=bytes(str(yesterday_tstamp)[:5], 'utf-8'))"
   ]
  },
  {
   "cell_type": "code",
   "execution_count": 36,
   "id": "5388dcec",
   "metadata": {
    "scrolled": true
   },
   "outputs": [
    {
     "name": "stderr",
     "output_type": "stream",
     "text": [
      "23/01/12 17:15:38 WARN scheduler.TaskSetManager: Stage 49 contains a task of very large size (4894 KiB). The maximum recommended task size is 1000 KiB.\n"
     ]
    },
    {
     "data": {
      "text/plain": [
       "31931"
      ]
     },
     "execution_count": 36,
     "metadata": {},
     "output_type": "execute_result"
    }
   ],
   "source": [
    "df_orig.count()"
   ]
  },
  {
   "cell_type": "code",
   "execution_count": 37,
   "id": "7ef7d373",
   "metadata": {},
   "outputs": [
    {
     "name": "stderr",
     "output_type": "stream",
     "text": [
      "23/01/12 17:15:57 WARN scheduler.TaskSetManager: Stage 51 contains a task of very large size (4894 KiB). The maximum recommended task size is 1000 KiB.\n"
     ]
    },
    {
     "data": {
      "text/plain": [
       "Row(airport:id_airport='123', airport:latitude_deg='63.985001', airport:longitude_deg='-22.6056', airport:name='Keflavik International Airport', date:dt='1673546400', date:tstamp='1673538600', rowkey='16735386001231673546400', weather:pop='0.2', weather:temp='275.01', weather:weather_description='light rain', weather:wind_speed='10.16')"
      ]
     },
     "execution_count": 37,
     "metadata": {},
     "output_type": "execute_result"
    }
   ],
   "source": [
    "df_orig.head()"
   ]
  },
  {
   "cell_type": "code",
   "execution_count": 8,
   "id": "b90af781",
   "metadata": {},
   "outputs": [],
   "source": [
    "df_renamed = df_orig.withColumnRenamed(\"airport:id_airport\",\"id_airport\")\\\n",
    ".withColumnRenamed(\"airport:name\",\"name\").withColumnRenamed(\"airport:latitude_deg\",\"latitude_deg\")\\\n",
    ".withColumnRenamed(\"airport:longitude_deg\",\"longitude_deg\").withColumnRenamed(\"weather:temp\",\"temp\")\\\n",
    ".withColumnRenamed(\"weather:weather_description\",\"description\").withColumnRenamed(\"weather:wind_speed\",\"wind_speed\")\\\n",
    ".withColumnRenamed(\"weather:pop\",\"pop\").withColumnRenamed(\"date:dt\",\"dt\").withColumnRenamed(\"date:tstamp\",\"tstamp\")"
   ]
  },
  {
   "cell_type": "code",
   "execution_count": 9,
   "id": "b0a29f36",
   "metadata": {},
   "outputs": [],
   "source": [
    "df = df_renamed.withColumn(\"id_airport\", df_renamed.id_airport.cast(IntegerType()))\\\n",
    ".withColumn(\"latitude_deg\",df_renamed.latitude_deg.cast(FloatType()))\\\n",
    ".withColumn(\"longitude_deg\",df_renamed.longitude_deg.cast(FloatType()))\\\n",
    ".withColumn(\"temp\",df_renamed.temp.cast(FloatType()))\\\n",
    ".withColumn(\"wind_speed\",df_renamed.wind_speed.cast(FloatType()))\\\n",
    ".withColumn(\"pop\", df_renamed.pop.cast(FloatType()))\\\n",
    ".withColumn(\"dt\",df_renamed.dt.cast(LongType()))\\\n",
    ".withColumn(\"tstamp\",df_renamed.tstamp.cast(LongType()))\\\n",
    ".withColumn(\"api_date\",from_unixtime(\"tstamp\"))\\\n",
    ".withColumn(\"forecast_date\",from_unixtime(\"dt\"))"
   ]
  },
  {
   "cell_type": "code",
   "execution_count": 10,
   "id": "462389a1",
   "metadata": {},
   "outputs": [
    {
     "name": "stderr",
     "output_type": "stream",
     "text": [
      "23/01/12 16:28:37 WARN scheduler.TaskSetManager: Stage 2 contains a task of very large size (2137 KiB). The maximum recommended task size is 1000 KiB.\n"
     ]
    },
    {
     "data": {
      "text/plain": [
       "Row(id_airport=123, latitude_deg=63.98500061035156, longitude_deg=-22.605600357055664, name='Keflavik International Airport', dt=1673546400, tstamp=1673538600, rowkey='16735386001231673546400', pop=0.20000000298023224, temp=275.010009765625, description='light rain', wind_speed=10.15999984741211, api_date='2023-01-12 15:50:00', forecast_date='2023-01-12 18:00:00')"
      ]
     },
     "execution_count": 10,
     "metadata": {},
     "output_type": "execute_result"
    }
   ],
   "source": [
    "df.head()"
   ]
  },
  {
   "cell_type": "markdown",
   "id": "af897f1a",
   "metadata": {},
   "source": [
    "Filtrowanie rekordów z ostatnich 24h."
   ]
  },
  {
   "cell_type": "code",
   "execution_count": 11,
   "id": "37f16003",
   "metadata": {},
   "outputs": [],
   "source": [
    "yesterday = datetime.today() - timedelta(days=1)\n",
    "yesterday = yesterday.strftime('%Y-%m-%d %H:%M:%S')"
   ]
  },
  {
   "cell_type": "code",
   "execution_count": 12,
   "id": "8608c96c",
   "metadata": {},
   "outputs": [],
   "source": [
    "df = df.filter(df.api_date > yesterday)"
   ]
  },
  {
   "cell_type": "code",
   "execution_count": 20,
   "id": "a62e2f8c",
   "metadata": {},
   "outputs": [
    {
     "name": "stderr",
     "output_type": "stream",
     "text": [
      "23/01/12 16:29:56 WARN scheduler.TaskSetManager: Stage 10 contains a task of very large size (2137 KiB). The maximum recommended task size is 1000 KiB.\n"
     ]
    },
    {
     "data": {
      "text/plain": [
       "13920"
      ]
     },
     "execution_count": 20,
     "metadata": {},
     "output_type": "execute_result"
    }
   ],
   "source": [
    "df.count()"
   ]
  },
  {
   "cell_type": "markdown",
   "id": "4eae1bb3",
   "metadata": {},
   "source": [
    "Wyciągamy najświeższą prognozę dla każdego dt."
   ]
  },
  {
   "cell_type": "code",
   "execution_count": 13,
   "id": "a8061665",
   "metadata": {},
   "outputs": [],
   "source": [
    "max_tstamp_df = df.groupBy(['id_airport', 'dt']).max('tstamp').withColumnRenamed('max(tstamp)', 'tstamp')"
   ]
  },
  {
   "cell_type": "code",
   "execution_count": 14,
   "id": "45ff525b",
   "metadata": {},
   "outputs": [],
   "source": [
    "cond = [df.id_airport == max_tstamp_df.id_airport, df.tstamp == max_tstamp_df.tstamp, df.dt == max_tstamp_df.dt]\n",
    "max_tstamp_df = max_tstamp_df.alias('max_tstamp_df')\n",
    "df = df.alias('df')\n",
    "fresh_forecast_df = df.join(max_tstamp_df, on=cond).select('df.*')"
   ]
  },
  {
   "cell_type": "code",
   "execution_count": 15,
   "id": "1bd1385e",
   "metadata": {},
   "outputs": [
    {
     "data": {
      "text/plain": [
       "['id_airport',\n",
       " 'latitude_deg',\n",
       " 'longitude_deg',\n",
       " 'name',\n",
       " 'dt',\n",
       " 'tstamp',\n",
       " 'rowkey',\n",
       " 'pop',\n",
       " 'temp',\n",
       " 'description',\n",
       " 'wind_speed',\n",
       " 'api_date',\n",
       " 'forecast_date']"
      ]
     },
     "execution_count": 15,
     "metadata": {},
     "output_type": "execute_result"
    }
   ],
   "source": [
    "fresh_forecast_df.columns"
   ]
  },
  {
   "cell_type": "markdown",
   "id": "b70bb075",
   "metadata": {},
   "source": [
    "Dla każdej prognozy wybieramy najbliższą prognozę"
   ]
  },
  {
   "cell_type": "code",
   "execution_count": 16,
   "id": "0d59dff4",
   "metadata": {},
   "outputs": [],
   "source": [
    "min_dt_df = fresh_forecast_df.groupBy(['id_airport', 'tstamp']).min('dt').withColumnRenamed('min(dt)', 'dt')"
   ]
  },
  {
   "cell_type": "code",
   "execution_count": 17,
   "id": "565fab5c",
   "metadata": {},
   "outputs": [],
   "source": [
    "cond = [df.id_airport == min_dt_df.id_airport, df.tstamp == min_dt_df.tstamp, df.dt == min_dt_df.dt]\n",
    "min_dt_df = min_dt_df.alias('min_dt_df')\n",
    "actual_df = df.join(min_dt_df, on=cond).select('df.*')"
   ]
  },
  {
   "cell_type": "code",
   "execution_count": 18,
   "id": "d8f1c33f",
   "metadata": {},
   "outputs": [
    {
     "name": "stderr",
     "output_type": "stream",
     "text": [
      "23/01/12 16:28:56 WARN scheduler.TaskSetManager: Stage 4 contains a task of very large size (2137 KiB). The maximum recommended task size is 1000 KiB.\n",
      "23/01/12 16:28:56 WARN scheduler.TaskSetManager: Stage 3 contains a task of very large size (2137 KiB). The maximum recommended task size is 1000 KiB.\n",
      "                                                                                \r"
     ]
    },
    {
     "data": {
      "text/plain": [
       "116"
      ]
     },
     "execution_count": 18,
     "metadata": {},
     "output_type": "execute_result"
    }
   ],
   "source": [
    "actual_df.count()"
   ]
  },
  {
   "cell_type": "code",
   "execution_count": 19,
   "id": "7bf7cd78",
   "metadata": {},
   "outputs": [],
   "source": [
    "agg_df = actual_df.groupBy('id_airport').agg(avg('temp'), avg('pop'))\\\n",
    ".withColumnRenamed('avg(temp)', 'avg_temp')\\\n",
    ".withColumnRenamed('avg(pop)', 'avg_pop')"
   ]
  },
  {
   "cell_type": "code",
   "execution_count": 21,
   "id": "f76da7ad",
   "metadata": {},
   "outputs": [
    {
     "name": "stderr",
     "output_type": "stream",
     "text": [
      "23/01/12 16:30:43 WARN scheduler.TaskSetManager: Stage 16 contains a task of very large size (2137 KiB). The maximum recommended task size is 1000 KiB.\n",
      "23/01/12 16:30:44 WARN scheduler.TaskSetManager: Stage 12 contains a task of very large size (2137 KiB). The maximum recommended task size is 1000 KiB.\n",
      "23/01/12 16:30:44 WARN scheduler.TaskSetManager: Stage 13 contains a task of very large size (2137 KiB). The maximum recommended task size is 1000 KiB.\n",
      "                                                                                \r"
     ]
    },
    {
     "data": {
      "text/plain": [
       "[Row(id_airport=3997, avg_temp=288.5, avg_pop=0.0),\n",
       " Row(id_airport=2563, avg_temp=281.69000244140625, avg_pop=0.20999999344348907),\n",
       " Row(id_airport=2542, avg_temp=279.9700012207031, avg_pop=0.7300000190734863),\n",
       " Row(id_airport=2513, avg_temp=283.9100036621094, avg_pop=1.0),\n",
       " Row(id_airport=301881, avg_temp=282.9800109863281, avg_pop=0.11999999731779099),\n",
       " Row(id_airport=4321, avg_temp=288.17999267578125, avg_pop=0.20999999344348907),\n",
       " Row(id_airport=2212, avg_temp=283.07000732421875, avg_pop=0.2800000011920929),\n",
       " Row(id_airport=4293, avg_temp=282.1400146484375, avg_pop=0.0),\n",
       " Row(id_airport=4155, avg_temp=284.3999938964844, avg_pop=0.0),\n",
       " Row(id_airport=4482, avg_temp=274.8500061035156, avg_pop=0.2199999988079071),\n",
       " Row(id_airport=317457, avg_temp=280.54998779296875, avg_pop=0.27000001072883606),\n",
       " Row(id_airport=2758, avg_temp=277.0400085449219, avg_pop=0.07999999821186066),\n",
       " Row(id_airport=4408, avg_temp=280.3299865722656, avg_pop=0.5400000214576721),\n",
       " Row(id_airport=4354, avg_temp=281.57000732421875, avg_pop=0.0),\n",
       " Row(id_airport=2601, avg_temp=277.3299865722656, avg_pop=0.07999999821186066),\n",
       " Row(id_airport=4368, avg_temp=281.3500061035156, avg_pop=0.0),\n",
       " Row(id_airport=3972, avg_temp=282.9200134277344, avg_pop=0.0),\n",
       " Row(id_airport=4610, avg_temp=278.6099853515625, avg_pop=0.14000000059604645),\n",
       " Row(id_airport=2701, avg_temp=277.25, avg_pop=0.7300000190734863),\n",
       " Row(id_airport=4617, avg_temp=280.5400085449219, avg_pop=0.0),\n",
       " Row(id_airport=26401, avg_temp=264.92999267578125, avg_pop=0.0),\n",
       " Row(id_airport=4070, avg_temp=284.0, avg_pop=0.0),\n",
       " Row(id_airport=6467, avg_temp=269.04998779296875, avg_pop=0.0),\n",
       " Row(id_airport=4251, avg_temp=283.9700012207031, avg_pop=0.20000000298023224),\n",
       " Row(id_airport=4386, avg_temp=277.489990234375, avg_pop=0.0),\n",
       " Row(id_airport=2609, avg_temp=278.3900146484375, avg_pop=0.0),\n",
       " Row(id_airport=4459, avg_temp=287.239990234375, avg_pop=0.0),\n",
       " Row(id_airport=2398, avg_temp=282.69000244140625, avg_pop=0.8100000023841858),\n",
       " Row(id_airport=4185, avg_temp=284.3699951171875, avg_pop=0.6000000238418579),\n",
       " Row(id_airport=2219, avg_temp=281.7300109863281, avg_pop=0.07999999821186066),\n",
       " Row(id_airport=4315, avg_temp=284.8599853515625, avg_pop=0.0),\n",
       " Row(id_airport=41136, avg_temp=264.25, avg_pop=0.0),\n",
       " Row(id_airport=6481, avg_temp=276.2900085449219, avg_pop=0.0),\n",
       " Row(id_airport=2155, avg_temp=283.7099914550781, avg_pop=1.0),\n",
       " Row(id_airport=2637, avg_temp=279.30999755859375, avg_pop=0.0),\n",
       " Row(id_airport=2537, avg_temp=283.0299987792969, avg_pop=1.0),\n",
       " Row(id_airport=4013, avg_temp=288.5799865722656, avg_pop=0.0),\n",
       " Row(id_airport=6506, avg_temp=250.60000610351562, avg_pop=0.0),\n",
       " Row(id_airport=26394, avg_temp=264.94000244140625, avg_pop=0.0),\n",
       " Row(id_airport=4258, avg_temp=285.6000061035156, avg_pop=0.0),\n",
       " Row(id_airport=4038, avg_temp=286.5199890136719, avg_pop=0.0),\n",
       " Row(id_airport=4137, avg_temp=281.92999267578125, avg_pop=0.0),\n",
       " Row(id_airport=4226, avg_temp=283.1000061035156, avg_pop=0.0),\n",
       " Row(id_airport=2224, avg_temp=283.4100036621094, avg_pop=1.0),\n",
       " Row(id_airport=2602, avg_temp=278.1300048828125, avg_pop=0.0),\n",
       " Row(id_airport=35046, avg_temp=273.0, avg_pop=0.14000000059604645),\n",
       " Row(id_airport=4528, avg_temp=282.05999755859375, avg_pop=0.4300000071525574),\n",
       " Row(id_airport=2218, avg_temp=280.17999267578125, avg_pop=0.0),\n",
       " Row(id_airport=4318, avg_temp=286.5799865722656, avg_pop=0.17000000178813934),\n",
       " Row(id_airport=2220, avg_temp=283.07000732421875, avg_pop=0.3400000035762787),\n",
       " Row(id_airport=4505, avg_temp=280.6199951171875, avg_pop=0.029999999329447746),\n",
       " Row(id_airport=2385, avg_temp=282.25, avg_pop=0.5600000023841858),\n",
       " Row(id_airport=4448, avg_temp=288.989990234375, avg_pop=0.0),\n",
       " Row(id_airport=42967, avg_temp=264.44000244140625, avg_pop=0.0),\n",
       " Row(id_airport=4296, avg_temp=277.8900146484375, avg_pop=0.0),\n",
       " Row(id_airport=339001, avg_temp=257.4100036621094, avg_pop=0.0),\n",
       " Row(id_airport=4613, avg_temp=281.94000244140625, avg_pop=0.0),\n",
       " Row(id_airport=6462, avg_temp=270.80999755859375, avg_pop=0.0),\n",
       " Row(id_airport=4020, avg_temp=283.0, avg_pop=0.0),\n",
       " Row(id_airport=4573, avg_temp=278.989990234375, avg_pop=0.0),\n",
       " Row(id_airport=4490, avg_temp=280.3699951171875, avg_pop=0.0),\n",
       " Row(id_airport=2214, avg_temp=282.9200134277344, avg_pop=0.8999999761581421),\n",
       " Row(id_airport=4427, avg_temp=288.2200012207031, avg_pop=0.0),\n",
       " Row(id_airport=2429, avg_temp=283.20001220703125, avg_pop=0.3100000023841858),\n",
       " Row(id_airport=2434, avg_temp=283.8699951171875, avg_pop=0.33000001311302185),\n",
       " Row(id_airport=4035, avg_temp=287.3800048828125, avg_pop=0.0),\n",
       " Row(id_airport=4461, avg_temp=287.3800048828125, avg_pop=0.0),\n",
       " Row(id_airport=26411, avg_temp=257.20001220703125, avg_pop=0.0),\n",
       " Row(id_airport=4156, avg_temp=286.0, avg_pop=0.0),\n",
       " Row(id_airport=2462, avg_temp=281.05999755859375, avg_pop=1.0),\n",
       " Row(id_airport=4340, avg_temp=280.3500061035156, avg_pop=0.029999999329447746),\n",
       " Row(id_airport=2608, avg_temp=280.25, avg_pop=0.4300000071525574),\n",
       " Row(id_airport=4456, avg_temp=286.3399963378906, avg_pop=0.7699999809265137),\n",
       " Row(id_airport=6501, avg_temp=269.4800109863281, avg_pop=0.0),\n",
       " Row(id_airport=26396, avg_temp=265.54998779296875, avg_pop=0.0),\n",
       " Row(id_airport=4379, avg_temp=284.05999755859375, avg_pop=0.0),\n",
       " Row(id_airport=2578, avg_temp=274.0799865722656, avg_pop=0.029999999329447746),\n",
       " Row(id_airport=2648, avg_temp=276.5899963378906, avg_pop=0.7599999904632568),\n",
       " Row(id_airport=26412, avg_temp=257.260009765625, avg_pop=0.0),\n",
       " Row(id_airport=3974, avg_temp=278.2900085449219, avg_pop=0.5400000214576721),\n",
       " Row(id_airport=4332, avg_temp=286.0899963378906, avg_pop=0.0),\n",
       " Row(id_airport=26404, avg_temp=260.6400146484375, avg_pop=0.0),\n",
       " Row(id_airport=2217, avg_temp=283.70001220703125, avg_pop=0.8999999761581421),\n",
       " Row(id_airport=2541, avg_temp=277.5799865722656, avg_pop=0.0),\n",
       " Row(id_airport=4366, avg_temp=280.9700012207031, avg_pop=0.0),\n",
       " Row(id_airport=6507, avg_temp=254.85000610351562, avg_pop=0.4099999964237213),\n",
       " Row(id_airport=4342, avg_temp=280.3999938964844, avg_pop=0.0),\n",
       " Row(id_airport=2533, avg_temp=283.32000732421875, avg_pop=1.0),\n",
       " Row(id_airport=2216, avg_temp=284.0, avg_pop=0.6100000143051147),\n",
       " Row(id_airport=2389, avg_temp=284.19000244140625, avg_pop=0.5400000214576721),\n",
       " Row(id_airport=3979, avg_temp=276.57000732421875, avg_pop=0.6399999856948853),\n",
       " Row(id_airport=4189, avg_temp=284.4200134277344, avg_pop=0.3799999952316284),\n",
       " Row(id_airport=3977, avg_temp=276.30999755859375, avg_pop=0.029999999329447746),\n",
       " Row(id_airport=2518, avg_temp=283.6499938964844, avg_pop=1.0),\n",
       " Row(id_airport=4378, avg_temp=284.8999938964844, avg_pop=0.0),\n",
       " Row(id_airport=4004, avg_temp=287.2300109863281, avg_pop=0.0),\n",
       " Row(id_airport=2307, avg_temp=275.010009765625, avg_pop=1.0),\n",
       " Row(id_airport=4372, avg_temp=285.3399963378906, avg_pop=0.0),\n",
       " Row(id_airport=2476, avg_temp=283.1099853515625, avg_pop=0.20000000298023224),\n",
       " Row(id_airport=123, avg_temp=274.739990234375, avg_pop=0.20000000298023224),\n",
       " Row(id_airport=2222, avg_temp=282.04998779296875, avg_pop=0.0),\n",
       " Row(id_airport=4434, avg_temp=281.739990234375, avg_pop=0.0),\n",
       " Row(id_airport=6489, avg_temp=270.9800109863281, avg_pop=0.4399999976158142),\n",
       " Row(id_airport=6519, avg_temp=276.9100036621094, avg_pop=0.0),\n",
       " Row(id_airport=2419, avg_temp=283.45001220703125, avg_pop=0.2199999988079071),\n",
       " Row(id_airport=4060, avg_temp=283.8599853515625, avg_pop=0.0),\n",
       " Row(id_airport=2461, avg_temp=281.1099853515625, avg_pop=0.8799999952316284),\n",
       " Row(id_airport=2766, avg_temp=274.4599914550781, avg_pop=0.0),\n",
       " Row(id_airport=4341, avg_temp=280.6000061035156, avg_pop=0.0),\n",
       " Row(id_airport=4019, avg_temp=287.0400085449219, avg_pop=0.0),\n",
       " Row(id_airport=2301, avg_temp=275.4700012207031, avg_pop=0.8700000047683716),\n",
       " Row(id_airport=4310, avg_temp=284.3599853515625, avg_pop=0.0),\n",
       " Row(id_airport=326363, avg_temp=271.010009765625, avg_pop=0.0),\n",
       " Row(id_airport=2570, avg_temp=276.5400085449219, avg_pop=0.019999999552965164),\n",
       " Row(id_airport=2599, avg_temp=272.42999267578125, avg_pop=0.3400000035762787),\n",
       " Row(id_airport=3993, avg_temp=279.989990234375, avg_pop=0.0)]"
      ]
     },
     "execution_count": 21,
     "metadata": {},
     "output_type": "execute_result"
    }
   ],
   "source": [
    "agg_df.collect()"
   ]
  },
  {
   "cell_type": "code",
   "execution_count": 27,
   "id": "e6439d41",
   "metadata": {},
   "outputs": [
    {
     "name": "stderr",
     "output_type": "stream",
     "text": [
      "23/01/12 16:45:59 WARN scheduler.TaskSetManager: Stage 40 contains a task of very large size (2137 KiB). The maximum recommended task size is 1000 KiB.\n",
      "23/01/12 16:46:00 WARN scheduler.TaskSetManager: Stage 36 contains a task of very large size (2137 KiB). The maximum recommended task size is 1000 KiB.\n",
      "23/01/12 16:46:00 WARN scheduler.TaskSetManager: Stage 38 contains a task of very large size (2137 KiB). The maximum recommended task size is 1000 KiB.\n",
      "                                                                                \r"
     ]
    }
   ],
   "source": [
    "hdfs_dir = '/user/airports_results/'\n",
    "current_date = datetime.today().strftime('%Y%m%d')\n",
    "agg_df.write.parquet(hdfs_dir + current_date + '.parquet')"
   ]
  },
  {
   "cell_type": "code",
   "execution_count": 30,
   "id": "129988e8",
   "metadata": {},
   "outputs": [
    {
     "name": "stderr",
     "output_type": "stream",
     "text": [
      "                                                                                \r"
     ]
    },
    {
     "data": {
      "text/plain": [
       "116"
      ]
     },
     "execution_count": 30,
     "metadata": {},
     "output_type": "execute_result"
    }
   ],
   "source": [
    "results_df = spark_session.read.parquet(hdfs_dir + datetime.today().strftime('%Y%m%d') + \".parquet\")\n",
    "results_df.count()"
   ]
  },
  {
   "cell_type": "code",
   "execution_count": 31,
   "id": "c2655527",
   "metadata": {},
   "outputs": [
    {
     "data": {
      "text/plain": [
       "[Row(id_airport=4368, avg_temp=281.3500061035156, avg_pop=0.0),\n",
       " Row(id_airport=3972, avg_temp=282.9200134277344, avg_pop=0.0),\n",
       " Row(id_airport=4610, avg_temp=278.6099853515625, avg_pop=0.14000000059604645),\n",
       " Row(id_airport=2222, avg_temp=282.04998779296875, avg_pop=0.0),\n",
       " Row(id_airport=4434, avg_temp=281.739990234375, avg_pop=0.0)]"
      ]
     },
     "execution_count": 31,
     "metadata": {},
     "output_type": "execute_result"
    }
   ],
   "source": [
    "results_df.head(5)"
   ]
  }
 ],
 "metadata": {
  "kernelspec": {
   "display_name": "Python 3 (ipykernel)",
   "language": "python",
   "name": "python3"
  },
  "language_info": {
   "codemirror_mode": {
    "name": "ipython",
    "version": 3
   },
   "file_extension": ".py",
   "mimetype": "text/x-python",
   "name": "python",
   "nbconvert_exporter": "python",
   "pygments_lexer": "ipython3",
   "version": "3.9.4"
  }
 },
 "nbformat": 4,
 "nbformat_minor": 5
}
